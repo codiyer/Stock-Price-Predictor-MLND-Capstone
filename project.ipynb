{
 "cells": [
  {
   "cell_type": "code",
   "execution_count": 1,
   "metadata": {},
   "outputs": [],
   "source": [
    "#Reserved for Variables.\n",
    "ticker = 'TATAMOTORS.NS'\n",
    "num_of_days = 4"
   ]
  },
  {
   "cell_type": "markdown",
   "metadata": {},
   "source": [
    "# Data Retrival and Visualization"
   ]
  },
  {
   "cell_type": "code",
   "execution_count": 2,
   "metadata": {},
   "outputs": [
    {
     "name": "stdout",
     "output_type": "stream",
     "text": [
      "[*********************100%***********************]  1 of 1 downloaded\n"
     ]
    }
   ],
   "source": [
    "from utils.data_utils import get_data\n",
    "\n",
    "data = get_data(ticker)"
   ]
  },
  {
   "cell_type": "code",
   "execution_count": 3,
   "metadata": {},
   "outputs": [
    {
     "data": {
      "text/html": [
       "<div>\n",
       "<style scoped>\n",
       "    .dataframe tbody tr th:only-of-type {\n",
       "        vertical-align: middle;\n",
       "    }\n",
       "\n",
       "    .dataframe tbody tr th {\n",
       "        vertical-align: top;\n",
       "    }\n",
       "\n",
       "    .dataframe thead th {\n",
       "        text-align: right;\n",
       "    }\n",
       "</style>\n",
       "<table border=\"1\" class=\"dataframe\">\n",
       "  <thead>\n",
       "    <tr style=\"text-align: right;\">\n",
       "      <th></th>\n",
       "      <th>Open</th>\n",
       "      <th>High</th>\n",
       "      <th>Low</th>\n",
       "      <th>Close</th>\n",
       "      <th>Adj Close</th>\n",
       "      <th>Volume</th>\n",
       "    </tr>\n",
       "    <tr>\n",
       "      <th>Date</th>\n",
       "      <th></th>\n",
       "      <th></th>\n",
       "      <th></th>\n",
       "      <th></th>\n",
       "      <th></th>\n",
       "      <th></th>\n",
       "    </tr>\n",
       "  </thead>\n",
       "  <tbody>\n",
       "    <tr>\n",
       "      <th>1997-01-01</th>\n",
       "      <td>65.73</td>\n",
       "      <td>69.18</td>\n",
       "      <td>65.54</td>\n",
       "      <td>69.06</td>\n",
       "      <td>15.61</td>\n",
       "      <td>11680285</td>\n",
       "    </tr>\n",
       "    <tr>\n",
       "      <th>1997-01-02</th>\n",
       "      <td>69.56</td>\n",
       "      <td>69.56</td>\n",
       "      <td>67.65</td>\n",
       "      <td>68.36</td>\n",
       "      <td>15.45</td>\n",
       "      <td>12850766</td>\n",
       "    </tr>\n",
       "    <tr>\n",
       "      <th>1997-01-03</th>\n",
       "      <td>67.65</td>\n",
       "      <td>68.98</td>\n",
       "      <td>67.48</td>\n",
       "      <td>68.71</td>\n",
       "      <td>15.53</td>\n",
       "      <td>7998983</td>\n",
       "    </tr>\n",
       "    <tr>\n",
       "      <th>1997-01-06</th>\n",
       "      <td>68.03</td>\n",
       "      <td>69.03</td>\n",
       "      <td>67.28</td>\n",
       "      <td>67.74</td>\n",
       "      <td>15.31</td>\n",
       "      <td>5613143</td>\n",
       "    </tr>\n",
       "    <tr>\n",
       "      <th>1997-01-07</th>\n",
       "      <td>67.60</td>\n",
       "      <td>67.60</td>\n",
       "      <td>65.39</td>\n",
       "      <td>65.91</td>\n",
       "      <td>14.90</td>\n",
       "      <td>11466071</td>\n",
       "    </tr>\n",
       "    <tr>\n",
       "      <th>1997-01-08</th>\n",
       "      <td>66.97</td>\n",
       "      <td>68.41</td>\n",
       "      <td>66.54</td>\n",
       "      <td>67.00</td>\n",
       "      <td>15.15</td>\n",
       "      <td>5246292</td>\n",
       "    </tr>\n",
       "    <tr>\n",
       "      <th>1997-01-09</th>\n",
       "      <td>67.00</td>\n",
       "      <td>67.55</td>\n",
       "      <td>66.30</td>\n",
       "      <td>66.79</td>\n",
       "      <td>15.10</td>\n",
       "      <td>5631408</td>\n",
       "    </tr>\n",
       "    <tr>\n",
       "      <th>1997-01-10</th>\n",
       "      <td>67.45</td>\n",
       "      <td>68.97</td>\n",
       "      <td>67.28</td>\n",
       "      <td>68.52</td>\n",
       "      <td>15.49</td>\n",
       "      <td>9725743</td>\n",
       "    </tr>\n",
       "    <tr>\n",
       "      <th>1997-01-13</th>\n",
       "      <td>68.03</td>\n",
       "      <td>68.03</td>\n",
       "      <td>66.94</td>\n",
       "      <td>67.65</td>\n",
       "      <td>15.29</td>\n",
       "      <td>4230535</td>\n",
       "    </tr>\n",
       "    <tr>\n",
       "      <th>1997-01-14</th>\n",
       "      <td>68.03</td>\n",
       "      <td>68.35</td>\n",
       "      <td>65.74</td>\n",
       "      <td>66.40</td>\n",
       "      <td>15.01</td>\n",
       "      <td>6508877</td>\n",
       "    </tr>\n",
       "  </tbody>\n",
       "</table>\n",
       "</div>"
      ],
      "text/plain": [
       "             Open   High    Low  Close  Adj Close    Volume\n",
       "Date                                                       \n",
       "1997-01-01  65.73  69.18  65.54  69.06      15.61  11680285\n",
       "1997-01-02  69.56  69.56  67.65  68.36      15.45  12850766\n",
       "1997-01-03  67.65  68.98  67.48  68.71      15.53   7998983\n",
       "1997-01-06  68.03  69.03  67.28  67.74      15.31   5613143\n",
       "1997-01-07  67.60  67.60  65.39  65.91      14.90  11466071\n",
       "1997-01-08  66.97  68.41  66.54  67.00      15.15   5246292\n",
       "1997-01-09  67.00  67.55  66.30  66.79      15.10   5631408\n",
       "1997-01-10  67.45  68.97  67.28  68.52      15.49   9725743\n",
       "1997-01-13  68.03  68.03  66.94  67.65      15.29   4230535\n",
       "1997-01-14  68.03  68.35  65.74  66.40      15.01   6508877"
      ]
     },
     "metadata": {},
     "output_type": "display_data"
    }
   ],
   "source": [
    "display(data[:10])"
   ]
  },
  {
   "cell_type": "code",
   "execution_count": 4,
   "metadata": {},
   "outputs": [
    {
     "data": {
      "text/html": [
       "<div>\n",
       "<style scoped>\n",
       "    .dataframe tbody tr th:only-of-type {\n",
       "        vertical-align: middle;\n",
       "    }\n",
       "\n",
       "    .dataframe tbody tr th {\n",
       "        vertical-align: top;\n",
       "    }\n",
       "\n",
       "    .dataframe thead th {\n",
       "        text-align: right;\n",
       "    }\n",
       "</style>\n",
       "<table border=\"1\" class=\"dataframe\">\n",
       "  <thead>\n",
       "    <tr style=\"text-align: right;\">\n",
       "      <th></th>\n",
       "      <th>Open</th>\n",
       "      <th>High</th>\n",
       "      <th>Low</th>\n",
       "      <th>Close</th>\n",
       "      <th>Adj Close</th>\n",
       "      <th>Volume</th>\n",
       "    </tr>\n",
       "  </thead>\n",
       "  <tbody>\n",
       "    <tr>\n",
       "      <th>count</th>\n",
       "      <td>5196.000000</td>\n",
       "      <td>5196.000000</td>\n",
       "      <td>5196.000000</td>\n",
       "      <td>5196.000000</td>\n",
       "      <td>5196.000000</td>\n",
       "      <td>5.196000e+03</td>\n",
       "    </tr>\n",
       "    <tr>\n",
       "      <th>mean</th>\n",
       "      <td>173.379588</td>\n",
       "      <td>176.044580</td>\n",
       "      <td>170.397652</td>\n",
       "      <td>173.147794</td>\n",
       "      <td>148.808903</td>\n",
       "      <td>1.113871e+07</td>\n",
       "    </tr>\n",
       "    <tr>\n",
       "      <th>std</th>\n",
       "      <td>156.357692</td>\n",
       "      <td>158.197767</td>\n",
       "      <td>154.256158</td>\n",
       "      <td>156.161565</td>\n",
       "      <td>167.639822</td>\n",
       "      <td>9.562883e+06</td>\n",
       "    </tr>\n",
       "    <tr>\n",
       "      <th>min</th>\n",
       "      <td>11.110000</td>\n",
       "      <td>11.630000</td>\n",
       "      <td>11.030000</td>\n",
       "      <td>11.270000</td>\n",
       "      <td>4.030000</td>\n",
       "      <td>0.000000e+00</td>\n",
       "    </tr>\n",
       "    <tr>\n",
       "      <th>25%</th>\n",
       "      <td>44.080000</td>\n",
       "      <td>45.000000</td>\n",
       "      <td>43.055000</td>\n",
       "      <td>43.935000</td>\n",
       "      <td>14.487500</td>\n",
       "      <td>5.083488e+06</td>\n",
       "    </tr>\n",
       "    <tr>\n",
       "      <th>50%</th>\n",
       "      <td>120.245000</td>\n",
       "      <td>122.580000</td>\n",
       "      <td>117.940000</td>\n",
       "      <td>120.275000</td>\n",
       "      <td>75.335000</td>\n",
       "      <td>8.215621e+06</td>\n",
       "    </tr>\n",
       "    <tr>\n",
       "      <th>75%</th>\n",
       "      <td>270.025000</td>\n",
       "      <td>273.717500</td>\n",
       "      <td>264.835000</td>\n",
       "      <td>269.247500</td>\n",
       "      <td>264.477500</td>\n",
       "      <td>1.370871e+07</td>\n",
       "    </tr>\n",
       "    <tr>\n",
       "      <th>max</th>\n",
       "      <td>600.210000</td>\n",
       "      <td>605.900000</td>\n",
       "      <td>589.870000</td>\n",
       "      <td>598.130000</td>\n",
       "      <td>597.890000</td>\n",
       "      <td>1.107443e+08</td>\n",
       "    </tr>\n",
       "  </tbody>\n",
       "</table>\n",
       "</div>"
      ],
      "text/plain": [
       "              Open         High          Low        Close    Adj Close  \\\n",
       "count  5196.000000  5196.000000  5196.000000  5196.000000  5196.000000   \n",
       "mean    173.379588   176.044580   170.397652   173.147794   148.808903   \n",
       "std     156.357692   158.197767   154.256158   156.161565   167.639822   \n",
       "min      11.110000    11.630000    11.030000    11.270000     4.030000   \n",
       "25%      44.080000    45.000000    43.055000    43.935000    14.487500   \n",
       "50%     120.245000   122.580000   117.940000   120.275000    75.335000   \n",
       "75%     270.025000   273.717500   264.835000   269.247500   264.477500   \n",
       "max     600.210000   605.900000   589.870000   598.130000   597.890000   \n",
       "\n",
       "             Volume  \n",
       "count  5.196000e+03  \n",
       "mean   1.113871e+07  \n",
       "std    9.562883e+06  \n",
       "min    0.000000e+00  \n",
       "25%    5.083488e+06  \n",
       "50%    8.215621e+06  \n",
       "75%    1.370871e+07  \n",
       "max    1.107443e+08  "
      ]
     },
     "execution_count": 4,
     "metadata": {},
     "output_type": "execute_result"
    }
   ],
   "source": [
    "data.describe()"
   ]
  },
  {
   "cell_type": "code",
   "execution_count": 6,
   "metadata": {},
   "outputs": [
    {
     "data": {
      "image/png": "[encoded data removed]",
      "text/plain": [
       "<Figure size 720x432 with 1 Axes>"
      ]
     },
     "metadata": {
      "needs_background": "light"
     },
     "output_type": "display_data"
    }
   ],
   "source": [
    "import matplotlib.pyplot as plt\n",
    "plt.figure(figsize=(10, 6))\n",
    "plt.plot(data[\"Close\"], color='blue')\n",
    "plt.xlabel('Year')\n",
    "plt.ylabel('Stock Price')\n",
    "plt.show()"
   ]
  },
  {
   "cell_type": "code",
   "execution_count": 7,
   "metadata": {},
   "outputs": [],
   "source": [
    "data = data.drop(columns=['Adj Close', 'Volume'])"
   ]
  },
  {
   "cell_type": "markdown",
   "metadata": {},
   "source": [
    "## Benchmark Model"
   ]
  },
  {
   "cell_type": "code",
   "execution_count": 8,
   "metadata": {},
   "outputs": [
    {
     "name": "stdout",
     "output_type": "stream",
     "text": [
      "Number of samples for training is 4153 and testing is 1039\n"
     ]
    }
   ],
   "source": [
    "from models.KNNModel import KNNModel\n",
    "\n",
    "knn = KNNModel(data, num_of_days)\n",
    "print(\"Number of samples for training is {} and testing is {}\".format(len(knn.x_train), len(knn.x_test)))"
   ]
  },
  {
   "cell_type": "code",
   "execution_count": 9,
   "metadata": {},
   "outputs": [
    {
     "name": "stdout",
     "output_type": "stream",
     "text": [
      "Data after normalization is as follows\n"
     ]
    },
    {
     "data": {
      "text/html": [
       "<div>\n",
       "<style scoped>\n",
       "    .dataframe tbody tr th:only-of-type {\n",
       "        vertical-align: middle;\n",
       "    }\n",
       "\n",
       "    .dataframe tbody tr th {\n",
       "        vertical-align: top;\n",
       "    }\n",
       "\n",
       "    .dataframe thead th {\n",
       "        text-align: right;\n",
       "    }\n",
       "</style>\n",
       "<table border=\"1\" class=\"dataframe\">\n",
       "  <thead>\n",
       "    <tr style=\"text-align: right;\">\n",
       "      <th></th>\n",
       "      <th>Open</th>\n",
       "      <th>High</th>\n",
       "      <th>Low</th>\n",
       "      <th>Close</th>\n",
       "    </tr>\n",
       "    <tr>\n",
       "      <th>Date</th>\n",
       "      <th></th>\n",
       "      <th></th>\n",
       "      <th></th>\n",
       "      <th></th>\n",
       "    </tr>\n",
       "  </thead>\n",
       "  <tbody>\n",
       "    <tr>\n",
       "      <th>1997-01-01</th>\n",
       "      <td>0.6573</td>\n",
       "      <td>0.6918</td>\n",
       "      <td>0.6554</td>\n",
       "      <td>0.6906</td>\n",
       "    </tr>\n",
       "    <tr>\n",
       "      <th>1997-01-02</th>\n",
       "      <td>0.6956</td>\n",
       "      <td>0.6956</td>\n",
       "      <td>0.6765</td>\n",
       "      <td>0.6836</td>\n",
       "    </tr>\n",
       "    <tr>\n",
       "      <th>1997-01-03</th>\n",
       "      <td>0.6765</td>\n",
       "      <td>0.6898</td>\n",
       "      <td>0.6748</td>\n",
       "      <td>0.6871</td>\n",
       "    </tr>\n",
       "    <tr>\n",
       "      <th>1997-01-06</th>\n",
       "      <td>0.6803</td>\n",
       "      <td>0.6903</td>\n",
       "      <td>0.6728</td>\n",
       "      <td>0.6774</td>\n",
       "    </tr>\n",
       "    <tr>\n",
       "      <th>1997-01-07</th>\n",
       "      <td>0.6760</td>\n",
       "      <td>0.6760</td>\n",
       "      <td>0.6539</td>\n",
       "      <td>0.6591</td>\n",
       "    </tr>\n",
       "    <tr>\n",
       "      <th>1997-01-08</th>\n",
       "      <td>0.6697</td>\n",
       "      <td>0.6841</td>\n",
       "      <td>0.6654</td>\n",
       "      <td>0.6700</td>\n",
       "    </tr>\n",
       "    <tr>\n",
       "      <th>1997-01-09</th>\n",
       "      <td>0.6700</td>\n",
       "      <td>0.6755</td>\n",
       "      <td>0.6630</td>\n",
       "      <td>0.6679</td>\n",
       "    </tr>\n",
       "    <tr>\n",
       "      <th>1997-01-10</th>\n",
       "      <td>0.6745</td>\n",
       "      <td>0.6897</td>\n",
       "      <td>0.6728</td>\n",
       "      <td>0.6852</td>\n",
       "    </tr>\n",
       "    <tr>\n",
       "      <th>1997-01-13</th>\n",
       "      <td>0.6803</td>\n",
       "      <td>0.6803</td>\n",
       "      <td>0.6694</td>\n",
       "      <td>0.6765</td>\n",
       "    </tr>\n",
       "    <tr>\n",
       "      <th>1997-01-14</th>\n",
       "      <td>0.6803</td>\n",
       "      <td>0.6835</td>\n",
       "      <td>0.6574</td>\n",
       "      <td>0.6640</td>\n",
       "    </tr>\n",
       "  </tbody>\n",
       "</table>\n",
       "</div>"
      ],
      "text/plain": [
       "              Open    High     Low   Close\n",
       "Date                                      \n",
       "1997-01-01  0.6573  0.6918  0.6554  0.6906\n",
       "1997-01-02  0.6956  0.6956  0.6765  0.6836\n",
       "1997-01-03  0.6765  0.6898  0.6748  0.6871\n",
       "1997-01-06  0.6803  0.6903  0.6728  0.6774\n",
       "1997-01-07  0.6760  0.6760  0.6539  0.6591\n",
       "1997-01-08  0.6697  0.6841  0.6654  0.6700\n",
       "1997-01-09  0.6700  0.6755  0.6630  0.6679\n",
       "1997-01-10  0.6745  0.6897  0.6728  0.6852\n",
       "1997-01-13  0.6803  0.6803  0.6694  0.6765\n",
       "1997-01-14  0.6803  0.6835  0.6574  0.6640"
      ]
     },
     "metadata": {},
     "output_type": "display_data"
    }
   ],
   "source": [
    "print('Data after normalization is as follows')\n",
    "display(knn.normalized_data[:10])"
   ]
  },
  {
   "cell_type": "code",
   "execution_count": 10,
   "metadata": {},
   "outputs": [
    {
     "data": {
      "text/plain": [
       "KNeighborsRegressor(algorithm='auto', leaf_size=30, metric='minkowski',\n",
       "          metric_params=None, n_jobs=None, n_neighbors=99, p=2,\n",
       "          weights='uniform')"
      ]
     },
     "execution_count": 10,
     "metadata": {},
     "output_type": "execute_result"
    }
   ],
   "source": [
    "knn.grid_search.best_estimator_"
   ]
  },
  {
   "cell_type": "code",
   "execution_count": 11,
   "metadata": {},
   "outputs": [],
   "source": [
    "y_pred = knn.predict(knn.x_test)"
   ]
  },
  {
   "cell_type": "code",
   "execution_count": 12,
   "metadata": {},
   "outputs": [
    {
     "name": "stdout",
     "output_type": "stream",
     "text": [
      "KNN Model: \n",
      "Mean squared error is 2.1513720709391824,\n",
      "Mean absolute error is 1.3137008535791017,\n",
      "Mean absolute percentage error is 28.151909590095688\n"
     ]
    }
   ],
   "source": [
    "knn_score = knn.score(y_pred)\n",
    "print('''KNN Model: \n",
    "Mean squared error is {},\n",
    "Mean absolute error is {},\n",
    "Mean absolute percentage error is {}'''.format(*knn_score))"
   ]
  },
  {
   "cell_type": "markdown",
   "metadata": {},
   "source": [
    "It has to be noted that this metrics is on a normalized data which is basically the data set divided by 100(default normalization_factor is 100. Can be changed). Hence, this error would be even bigger when done on actual data set."
   ]
  },
  {
   "cell_type": "markdown",
   "metadata": {},
   "source": [
    "## Model Selection"
   ]
  },
  {
   "cell_type": "markdown",
   "metadata": {},
   "source": [
    "Here, we are considering 2 models \n",
    "1. MLP Model\n",
    "2. LSTM Model"
   ]
  },
  {
   "cell_type": "markdown",
   "metadata": {},
   "source": [
    "### MLP Model"
   ]
  },
  {
   "cell_type": "code",
   "execution_count": 13,
   "metadata": {},
   "outputs": [
    {
     "name": "stderr",
     "output_type": "stream",
     "text": [
      "Using TensorFlow backend.\n"
     ]
    },
    {
     "name": "stdout",
     "output_type": "stream",
     "text": [
      "_________________________________________________________________\n",
      "Layer (type)                 Output Shape              Param #   \n",
      "=================================================================\n",
      "dense_1 (Dense)              (None, 4, 512)            2560      \n",
      "_________________________________________________________________\n",
      "dense_2 (Dense)              (None, 4, 512)            262656    \n",
      "_________________________________________________________________\n",
      "dense_3 (Dense)              (None, 4, 512)            262656    \n",
      "_________________________________________________________________\n",
      "dense_4 (Dense)              (None, 4, 512)            262656    \n",
      "_________________________________________________________________\n",
      "dense_5 (Dense)              (None, 4, 128)            65664     \n",
      "_________________________________________________________________\n",
      "flatten_1 (Flatten)          (None, 512)               0         \n",
      "_________________________________________________________________\n",
      "dense_6 (Dense)              (None, 1)                 513       \n",
      "=================================================================\n",
      "Total params: 856,705\n",
      "Trainable params: 856,705\n",
      "Non-trainable params: 0\n",
      "_________________________________________________________________\n",
      "Train on 2076 samples, validate on 2077 samples\n",
      "Epoch 1/500\n",
      "2076/2076 [==============================] - 1s 669us/step - loss: 0.0104 - mean_absolute_percentage_error: 13.0104 - mean_absolute_error: 0.0536 - val_loss: 0.0037 - val_mean_absolute_percentage_error: 3.0065 - val_mean_absolute_error: 0.0449\n",
      "\n",
      "Epoch 00001: val_loss improved from inf to 0.00373, saving model to weights/mlp/TATAMOTORS.NS.weights.best.hdf5\n",
      "Epoch 2/500\n",
      "2076/2076 [==============================] - 1s 450us/step - loss: 3.8679e-04 - mean_absolute_percentage_error: 3.3666 - mean_absolute_error: 0.0138 - val_loss: 0.0034 - val_mean_absolute_percentage_error: 2.8335 - val_mean_absolute_error: 0.0423\n",
      "\n",
      "Epoch 00002: val_loss improved from 0.00373 to 0.00337, saving model to weights/mlp/TATAMOTORS.NS.weights.best.hdf5\n",
      "Epoch 3/500\n",
      "2076/2076 [==============================] - 1s 515us/step - loss: 3.9498e-04 - mean_absolute_percentage_error: 3.3427 - mean_absolute_error: 0.0138 - val_loss: 0.0038 - val_mean_absolute_percentage_error: 3.0752 - val_mean_absolute_error: 0.0460\n",
      "\n",
      "Epoch 00003: val_loss did not improve from 0.00337\n",
      "Epoch 4/500\n",
      "2076/2076 [==============================] - 1s 570us/step - loss: 4.1500e-04 - mean_absolute_percentage_error: 3.4624 - mean_absolute_error: 0.0145 - val_loss: 0.0034 - val_mean_absolute_percentage_error: 2.8364 - val_mean_absolute_error: 0.0429\n",
      "\n",
      "Epoch 00004: val_loss did not improve from 0.00337\n",
      "Epoch 5/500\n",
      "2076/2076 [==============================] - 1s 631us/step - loss: 3.3421e-04 - mean_absolute_percentage_error: 3.0500 - mean_absolute_error: 0.0128 - val_loss: 0.0031 - val_mean_absolute_percentage_error: 2.6703 - val_mean_absolute_error: 0.0407\n",
      "\n",
      "Epoch 00005: val_loss improved from 0.00337 to 0.00309, saving model to weights/mlp/TATAMOTORS.NS.weights.best.hdf5\n",
      "Epoch 6/500\n",
      "2076/2076 [==============================] - 1s 550us/step - loss: 4.3881e-04 - mean_absolute_percentage_error: 3.5537 - mean_absolute_error: 0.0150 - val_loss: 0.0026 - val_mean_absolute_percentage_error: 2.4641 - val_mean_absolute_error: 0.0369\n",
      "\n",
      "Epoch 00006: val_loss improved from 0.00309 to 0.00259, saving model to weights/mlp/TATAMOTORS.NS.weights.best.hdf5\n",
      "Epoch 7/500\n",
      "2076/2076 [==============================] - 1s 500us/step - loss: 3.6792e-04 - mean_absolute_percentage_error: 3.2800 - mean_absolute_error: 0.0136 - val_loss: 0.0025 - val_mean_absolute_percentage_error: 2.4153 - val_mean_absolute_error: 0.0363\n",
      "\n",
      "Epoch 00007: val_loss improved from 0.00259 to 0.00251, saving model to weights/mlp/TATAMOTORS.NS.weights.best.hdf5\n",
      "Epoch 8/500\n",
      "2076/2076 [==============================] - 1s 471us/step - loss: 3.4522e-04 - mean_absolute_percentage_error: 3.1062 - mean_absolute_error: 0.0131 - val_loss: 0.0025 - val_mean_absolute_percentage_error: 2.4096 - val_mean_absolute_error: 0.0362\n",
      "\n",
      "Epoch 00008: val_loss improved from 0.00251 to 0.00250, saving model to weights/mlp/TATAMOTORS.NS.weights.best.hdf5\n",
      "Epoch 9/500\n",
      "2076/2076 [==============================] - 1s 481us/step - loss: 4.5907e-04 - mean_absolute_percentage_error: 3.5176 - mean_absolute_error: 0.0153 - val_loss: 0.0035 - val_mean_absolute_percentage_error: 2.8438 - val_mean_absolute_error: 0.0438\n",
      "\n",
      "Epoch 00009: val_loss did not improve from 0.00250\n",
      "Epoch 10/500\n",
      "2076/2076 [==============================] - 1s 471us/step - loss: 4.3729e-04 - mean_absolute_percentage_error: 3.6104 - mean_absolute_error: 0.0151 - val_loss: 0.0060 - val_mean_absolute_percentage_error: 3.8111 - val_mean_absolute_error: 0.0607\n",
      "\n",
      "Epoch 00010: val_loss did not improve from 0.00250\n",
      "Epoch 11/500\n",
      "2076/2076 [==============================] - 1s 476us/step - loss: 5.1209e-04 - mean_absolute_percentage_error: 3.7901 - mean_absolute_error: 0.0162 - val_loss: 0.0023 - val_mean_absolute_percentage_error: 2.2659 - val_mean_absolute_error: 0.0343\n",
      "\n",
      "Epoch 00011: val_loss improved from 0.00250 to 0.00227, saving model to weights/mlp/TATAMOTORS.NS.weights.best.hdf5\n",
      "Epoch 12/500\n",
      "2076/2076 [==============================] - 1s 481us/step - loss: 2.6669e-04 - mean_absolute_percentage_error: 2.7741 - mean_absolute_error: 0.0115 - val_loss: 0.0022 - val_mean_absolute_percentage_error: 2.2258 - val_mean_absolute_error: 0.0337\n",
      "\n",
      "Epoch 00012: val_loss improved from 0.00227 to 0.00220, saving model to weights/mlp/TATAMOTORS.NS.weights.best.hdf5\n",
      "Epoch 13/500\n",
      "2076/2076 [==============================] - 1s 479us/step - loss: 3.5280e-04 - mean_absolute_percentage_error: 3.1204 - mean_absolute_error: 0.0133 - val_loss: 0.0026 - val_mean_absolute_percentage_error: 2.4751 - val_mean_absolute_error: 0.0374\n",
      "\n",
      "Epoch 00013: val_loss did not improve from 0.00220\n",
      "Epoch 14/500\n",
      "2076/2076 [==============================] - 1s 474us/step - loss: 3.7022e-04 - mean_absolute_percentage_error: 3.0637 - mean_absolute_error: 0.0133 - val_loss: 0.0161 - val_mean_absolute_percentage_error: 6.4726 - val_mean_absolute_error: 0.1074\n",
      "\n",
      "Epoch 00014: val_loss did not improve from 0.00220\n",
      "Epoch 15/500\n",
      "2076/2076 [==============================] - 1s 474us/step - loss: 4.7330e-04 - mean_absolute_percentage_error: 3.7778 - mean_absolute_error: 0.0159 - val_loss: 0.0043 - val_mean_absolute_percentage_error: 3.1303 - val_mean_absolute_error: 0.0496\n",
      "\n",
      "Epoch 00015: val_loss did not improve from 0.00220\n",
      "Epoch 16/500\n",
      "2076/2076 [==============================] - 1s 470us/step - loss: 2.6661e-04 - mean_absolute_percentage_error: 2.8100 - mean_absolute_error: 0.0117 - val_loss: 0.0034 - val_mean_absolute_percentage_error: 2.7893 - val_mean_absolute_error: 0.0437\n",
      "\n",
      "Epoch 00016: val_loss did not improve from 0.00220\n",
      "Epoch 17/500\n",
      "2076/2076 [==============================] - 1s 461us/step - loss: 3.0408e-04 - mean_absolute_percentage_error: 2.8822 - mean_absolute_error: 0.0123 - val_loss: 0.0021 - val_mean_absolute_percentage_error: 2.2014 - val_mean_absolute_error: 0.0330\n",
      "\n",
      "Epoch 00017: val_loss improved from 0.00220 to 0.00210, saving model to weights/mlp/TATAMOTORS.NS.weights.best.hdf5\n",
      "Epoch 18/500\n",
      "2076/2076 [==============================] - 1s 480us/step - loss: 4.4943e-04 - mean_absolute_percentage_error: 3.4850 - mean_absolute_error: 0.0152 - val_loss: 0.0057 - val_mean_absolute_percentage_error: 3.6825 - val_mean_absolute_error: 0.0598\n",
      "\n",
      "Epoch 00018: val_loss did not improve from 0.00210\n",
      "Epoch 19/500\n",
      "2076/2076 [==============================] - 1s 490us/step - loss: 3.6859e-04 - mean_absolute_percentage_error: 3.1966 - mean_absolute_error: 0.0137 - val_loss: 0.0025 - val_mean_absolute_percentage_error: 2.4328 - val_mean_absolute_error: 0.0365\n",
      "\n",
      "Epoch 00019: val_loss did not improve from 0.00210\n",
      "Epoch 20/500\n",
      "2076/2076 [==============================] - 1s 480us/step - loss: 3.2099e-04 - mean_absolute_percentage_error: 3.0306 - mean_absolute_error: 0.0127 - val_loss: 0.0029 - val_mean_absolute_percentage_error: 2.6139 - val_mean_absolute_error: 0.0401\n",
      "\n",
      "Epoch 00020: val_loss did not improve from 0.00210\n",
      "Epoch 21/500\n"
     ]
    },
    {
     "name": "stdout",
     "output_type": "stream",
     "text": [
      "2076/2076 [==============================] - 1s 465us/step - loss: 3.7328e-04 - mean_absolute_percentage_error: 3.1598 - mean_absolute_error: 0.0136 - val_loss: 0.0024 - val_mean_absolute_percentage_error: 2.3404 - val_mean_absolute_error: 0.0354\n",
      "\n",
      "Epoch 00021: val_loss did not improve from 0.00210\n",
      "Epoch 22/500\n",
      "2076/2076 [==============================] - 1s 475us/step - loss: 3.1240e-04 - mean_absolute_percentage_error: 2.9192 - mean_absolute_error: 0.0124 - val_loss: 0.0046 - val_mean_absolute_percentage_error: 3.3126 - val_mean_absolute_error: 0.0526\n",
      "\n",
      "Epoch 00022: val_loss did not improve from 0.00210\n",
      "Epoch 23/500\n",
      "2076/2076 [==============================] - 1s 460us/step - loss: 3.0428e-04 - mean_absolute_percentage_error: 2.8893 - mean_absolute_error: 0.0123 - val_loss: 0.0042 - val_mean_absolute_percentage_error: 3.1094 - val_mean_absolute_error: 0.0497\n",
      "\n",
      "Epoch 00023: val_loss did not improve from 0.00210\n",
      "Epoch 24/500\n",
      "2076/2076 [==============================] - 1s 460us/step - loss: 3.0030e-04 - mean_absolute_percentage_error: 2.8706 - mean_absolute_error: 0.0123 - val_loss: 0.0063 - val_mean_absolute_percentage_error: 3.8708 - val_mean_absolute_error: 0.0632\n",
      "\n",
      "Epoch 00024: val_loss did not improve from 0.00210\n",
      "Epoch 25/500\n",
      "2076/2076 [==============================] - 1s 469us/step - loss: 4.1180e-04 - mean_absolute_percentage_error: 3.3665 - mean_absolute_error: 0.0146 - val_loss: 0.0032 - val_mean_absolute_percentage_error: 2.8157 - val_mean_absolute_error: 0.0427\n",
      "\n",
      "Epoch 00025: val_loss did not improve from 0.00210\n",
      "Epoch 26/500\n",
      "2076/2076 [==============================] - 1s 473us/step - loss: 3.2155e-04 - mean_absolute_percentage_error: 3.0813 - mean_absolute_error: 0.0129 - val_loss: 0.0021 - val_mean_absolute_percentage_error: 2.1958 - val_mean_absolute_error: 0.0333\n",
      "\n",
      "Epoch 00026: val_loss did not improve from 0.00210\n",
      "Epoch 27/500\n",
      "2076/2076 [==============================] - 1s 470us/step - loss: 4.5997e-04 - mean_absolute_percentage_error: 3.5595 - mean_absolute_error: 0.0153 - val_loss: 0.0045 - val_mean_absolute_percentage_error: 3.1310 - val_mean_absolute_error: 0.0512\n",
      "\n",
      "Epoch 00027: val_loss did not improve from 0.00210\n",
      "Epoch 28/500\n",
      "2076/2076 [==============================] - 1s 471us/step - loss: 3.3499e-04 - mean_absolute_percentage_error: 3.1141 - mean_absolute_error: 0.0131 - val_loss: 0.0022 - val_mean_absolute_percentage_error: 2.2201 - val_mean_absolute_error: 0.0336\n",
      "\n",
      "Epoch 00028: val_loss did not improve from 0.00210\n",
      "Epoch 29/500\n",
      "2076/2076 [==============================] - 1s 457us/step - loss: 3.2473e-04 - mean_absolute_percentage_error: 2.9993 - mean_absolute_error: 0.0128 - val_loss: 0.0033 - val_mean_absolute_percentage_error: 2.6775 - val_mean_absolute_error: 0.0424\n",
      "\n",
      "Epoch 00029: val_loss did not improve from 0.00210\n",
      "Epoch 30/500\n",
      "2076/2076 [==============================] - 1s 475us/step - loss: 2.7507e-04 - mean_absolute_percentage_error: 2.7823 - mean_absolute_error: 0.0118 - val_loss: 0.0054 - val_mean_absolute_percentage_error: 3.5905 - val_mean_absolute_error: 0.0576\n",
      "\n",
      "Epoch 00030: val_loss did not improve from 0.00210\n",
      "Epoch 31/500\n",
      "2076/2076 [==============================] - 1s 497us/step - loss: 5.8230e-04 - mean_absolute_percentage_error: 3.8666 - mean_absolute_error: 0.0170 - val_loss: 0.0023 - val_mean_absolute_percentage_error: 2.3316 - val_mean_absolute_error: 0.0349\n",
      "\n",
      "Epoch 00031: val_loss did not improve from 0.00210\n",
      "Epoch 32/500\n",
      "2076/2076 [==============================] - 1s 472us/step - loss: 4.6981e-04 - mean_absolute_percentage_error: 3.5893 - mean_absolute_error: 0.0152 - val_loss: 0.0032 - val_mean_absolute_percentage_error: 2.7659 - val_mean_absolute_error: 0.0426\n",
      "\n",
      "Epoch 00032: val_loss did not improve from 0.00210\n",
      "Epoch 33/500\n",
      "2076/2076 [==============================] - 1s 470us/step - loss: 3.3869e-04 - mean_absolute_percentage_error: 3.1532 - mean_absolute_error: 0.0132 - val_loss: 0.0023 - val_mean_absolute_percentage_error: 2.2953 - val_mean_absolute_error: 0.0350\n",
      "\n",
      "Epoch 00033: val_loss did not improve from 0.00210\n",
      "Epoch 34/500\n",
      "2076/2076 [==============================] - 1s 476us/step - loss: 2.6466e-04 - mean_absolute_percentage_error: 2.6673 - mean_absolute_error: 0.0113 - val_loss: 0.0021 - val_mean_absolute_percentage_error: 2.1944 - val_mean_absolute_error: 0.0332\n",
      "\n",
      "Epoch 00034: val_loss did not improve from 0.00210\n",
      "Epoch 35/500\n",
      "2076/2076 [==============================] - 1s 473us/step - loss: 2.9197e-04 - mean_absolute_percentage_error: 2.8624 - mean_absolute_error: 0.0120 - val_loss: 0.0028 - val_mean_absolute_percentage_error: 2.5388 - val_mean_absolute_error: 0.0392\n",
      "\n",
      "Epoch 00035: val_loss did not improve from 0.00210\n",
      "Epoch 36/500\n",
      "2076/2076 [==============================] - 1s 470us/step - loss: 4.8019e-04 - mean_absolute_percentage_error: 3.6995 - mean_absolute_error: 0.0158 - val_loss: 0.0053 - val_mean_absolute_percentage_error: 3.5752 - val_mean_absolute_error: 0.0566\n",
      "\n",
      "Epoch 00036: val_loss did not improve from 0.00210\n",
      "Epoch 37/500\n",
      "2076/2076 [==============================] - 1s 468us/step - loss: 4.5320e-04 - mean_absolute_percentage_error: 3.5978 - mean_absolute_error: 0.0155 - val_loss: 0.0079 - val_mean_absolute_percentage_error: 4.3846 - val_mean_absolute_error: 0.0714\n",
      "\n",
      "Epoch 00037: val_loss did not improve from 0.00210\n"
     ]
    }
   ],
   "source": [
    "from models.MLPModel import MLPModel\n",
    "\n",
    "mlp = MLPModel(ticker, data, num_of_days)\n",
    "mlp.summary()\n",
    "mlp.compile()\n",
    "mlp_hist = mlp.fit(500)\n",
    "mlp.load_weights()"
   ]
  },
  {
   "cell_type": "code",
   "execution_count": 14,
   "metadata": {},
   "outputs": [
    {
     "name": "stdout",
     "output_type": "stream",
     "text": [
      "1039/1039 [==============================] - 0s 114us/step\n"
     ]
    }
   ],
   "source": [
    "mlp_score = mlp.evaluate()"
   ]
  },
  {
   "cell_type": "code",
   "execution_count": 15,
   "metadata": {},
   "outputs": [
    {
     "name": "stdout",
     "output_type": "stream",
     "text": [
      "MLPModel: \n",
      "Mean squared error is 0.008961189405354416,\n",
      "Mean absolute error is 1.6303405252296954,\n",
      "Mean absolute percentage error is 0.07088928317599164\n"
     ]
    }
   ],
   "source": [
    "print('''MLPModel: \n",
    "Mean squared error is {},\n",
    "Mean absolute error is {},\n",
    "Mean absolute percentage error is {}'''.format(*mlp_score))"
   ]
  },
  {
   "cell_type": "code",
   "execution_count": 16,
   "metadata": {},
   "outputs": [
    {
     "data": {
      "image/png": "[encoded data removed]",
      "text/plain": [
       "<Figure size 432x288 with 1 Axes>"
      ]
     },
     "metadata": {
      "needs_background": "light"
     },
     "output_type": "display_data"
    },
    {
     "data": {
      "image/png": "[encoded data removed]",
      "text/plain": [
       "<Figure size 432x288 with 1 Axes>"
      ]
     },
     "metadata": {
      "needs_background": "light"
     },
     "output_type": "display_data"
    },
    {
     "data": {
      "image/png": "[encoded data removed]",
      "text/plain": [
       "<Figure size 432x288 with 1 Axes>"
      ]
     },
     "metadata": {
      "needs_background": "light"
     },
     "output_type": "display_data"
    }
   ],
   "source": [
    "plt.plot(mlp_hist.history['loss'], color='blue')\n",
    "plt.xlabel('Epochs')\n",
    "plt.ylabel('Mean Squared Error')\n",
    "plt.show()\n",
    "\n",
    "plt.plot(mlp_hist.history['mean_absolute_error'], color='blue')\n",
    "plt.xlabel('Epochs')\n",
    "plt.ylabel('Mean Absolute Error')\n",
    "plt.show()\n",
    "\n",
    "plt.plot(mlp_hist.history['mean_absolute_percentage_error'], color='blue')\n",
    "plt.xlabel('Epochs')\n",
    "plt.ylabel('Mean Absolute Percentage Error')\n",
    "plt.show()\n"
   ]
  },
  {
   "cell_type": "markdown",
   "metadata": {},
   "source": [
    "### LSTM Model"
   ]
  },
  {
   "cell_type": "code",
   "execution_count": 17,
   "metadata": {},
   "outputs": [
    {
     "name": "stdout",
     "output_type": "stream",
     "text": [
      "_________________________________________________________________\n",
      "Layer (type)                 Output Shape              Param #   \n",
      "=================================================================\n",
      "lstm_1 (LSTM)                (None, 4, 256)            267264    \n",
      "_________________________________________________________________\n",
      "dropout_1 (Dropout)          (None, 4, 256)            0         \n",
      "_________________________________________________________________\n",
      "lstm_2 (LSTM)                (None, 256)               525312    \n",
      "_________________________________________________________________\n",
      "dropout_2 (Dropout)          (None, 256)               0         \n",
      "_________________________________________________________________\n",
      "dense_7 (Dense)              (None, 1)                 257       \n",
      "=================================================================\n",
      "Total params: 792,833\n",
      "Trainable params: 792,833\n",
      "Non-trainable params: 0\n",
      "_________________________________________________________________\n"
     ]
    }
   ],
   "source": [
    "from models.LSTMModel import LSTMModel\n",
    "lstm = LSTMModel(ticker, data, num_of_days)\n",
    "lstm.summary()"
   ]
  },
  {
   "cell_type": "code",
   "execution_count": 18,
   "metadata": {},
   "outputs": [
    {
     "name": "stdout",
     "output_type": "stream",
     "text": [
      "Train on 2076 samples, validate on 2077 samples\n",
      "Epoch 1/500\n",
      "2076/2076 [==============================] - 3s 2ms/step - loss: 0.0173 - mean_absolute_percentage_error: 18.7484 - mean_absolute_error: 0.0796 - val_loss: 0.0360 - val_mean_absolute_percentage_error: 6.4179 - val_mean_absolute_error: 0.1272\n",
      "\n",
      "Epoch 00001: val_loss improved from inf to 0.03600, saving model to weights/lstm/TATAMOTORS.NS.weights.best.hdf5\n",
      "Epoch 2/500\n",
      "2076/2076 [==============================] - 2s 822us/step - loss: 0.0043 - mean_absolute_percentage_error: 10.4484 - mean_absolute_error: 0.0464 - val_loss: 0.0232 - val_mean_absolute_percentage_error: 6.6774 - val_mean_absolute_error: 0.1086\n",
      "\n",
      "Epoch 00002: val_loss improved from 0.03600 to 0.02320, saving model to weights/lstm/TATAMOTORS.NS.weights.best.hdf5\n",
      "Epoch 3/500\n",
      "2076/2076 [==============================] - 2s 821us/step - loss: 0.0036 - mean_absolute_percentage_error: 9.5487 - mean_absolute_error: 0.0420 - val_loss: 0.0426 - val_mean_absolute_percentage_error: 6.7461 - val_mean_absolute_error: 0.1336\n",
      "\n",
      "Epoch 00003: val_loss did not improve from 0.02320\n",
      "Epoch 4/500\n",
      "2076/2076 [==============================] - 2s 823us/step - loss: 0.0035 - mean_absolute_percentage_error: 8.9776 - mean_absolute_error: 0.0407 - val_loss: 0.0595 - val_mean_absolute_percentage_error: 7.8685 - val_mean_absolute_error: 0.1582\n",
      "\n",
      "Epoch 00004: val_loss did not improve from 0.02320\n",
      "Epoch 5/500\n",
      "2076/2076 [==============================] - 2s 832us/step - loss: 0.0035 - mean_absolute_percentage_error: 9.2136 - mean_absolute_error: 0.0412 - val_loss: 0.0987 - val_mean_absolute_percentage_error: 10.2241 - val_mean_absolute_error: 0.2149\n",
      "\n",
      "Epoch 00005: val_loss did not improve from 0.02320\n",
      "Epoch 6/500\n",
      "2076/2076 [==============================] - 2s 809us/step - loss: 0.0033 - mean_absolute_percentage_error: 8.8160 - mean_absolute_error: 0.0397 - val_loss: 0.0763 - val_mean_absolute_percentage_error: 8.7479 - val_mean_absolute_error: 0.1806\n",
      "\n",
      "Epoch 00006: val_loss did not improve from 0.02320\n",
      "Epoch 7/500\n",
      "2076/2076 [==============================] - 2s 899us/step - loss: 0.0027 - mean_absolute_percentage_error: 8.1789 - mean_absolute_error: 0.0365 - val_loss: 0.0930 - val_mean_absolute_percentage_error: 9.6834 - val_mean_absolute_error: 0.2041\n",
      "\n",
      "Epoch 00007: val_loss did not improve from 0.02320\n",
      "Epoch 8/500\n",
      "2076/2076 [==============================] - 2s 819us/step - loss: 0.0030 - mean_absolute_percentage_error: 8.7623 - mean_absolute_error: 0.0384 - val_loss: 0.1188 - val_mean_absolute_percentage_error: 11.4627 - val_mean_absolute_error: 0.2400\n",
      "\n",
      "Epoch 00008: val_loss did not improve from 0.02320\n",
      "Epoch 9/500\n",
      "2076/2076 [==============================] - 2s 819us/step - loss: 0.0029 - mean_absolute_percentage_error: 8.3163 - mean_absolute_error: 0.0375 - val_loss: 0.1626 - val_mean_absolute_percentage_error: 15.2375 - val_mean_absolute_error: 0.3052\n",
      "\n",
      "Epoch 00009: val_loss did not improve from 0.02320\n",
      "Epoch 10/500\n",
      "2076/2076 [==============================] - 2s 846us/step - loss: 0.0026 - mean_absolute_percentage_error: 7.9318 - mean_absolute_error: 0.0358 - val_loss: 0.0878 - val_mean_absolute_percentage_error: 9.5815 - val_mean_absolute_error: 0.2012\n",
      "\n",
      "Epoch 00010: val_loss did not improve from 0.02320\n",
      "Epoch 11/500\n",
      "2076/2076 [==============================] - 2s 892us/step - loss: 0.0027 - mean_absolute_percentage_error: 8.2247 - mean_absolute_error: 0.0363 - val_loss: 0.1225 - val_mean_absolute_percentage_error: 12.3621 - val_mean_absolute_error: 0.2534\n",
      "\n",
      "Epoch 00011: val_loss did not improve from 0.02320\n",
      "Epoch 12/500\n",
      "2076/2076 [==============================] - 2s 863us/step - loss: 0.0026 - mean_absolute_percentage_error: 7.9786 - mean_absolute_error: 0.0355 - val_loss: 0.1046 - val_mean_absolute_percentage_error: 11.8498 - val_mean_absolute_error: 0.2384\n",
      "\n",
      "Epoch 00012: val_loss did not improve from 0.02320\n",
      "Epoch 13/500\n",
      "2076/2076 [==============================] - 2s 818us/step - loss: 0.0027 - mean_absolute_percentage_error: 8.3470 - mean_absolute_error: 0.0361 - val_loss: 0.0804 - val_mean_absolute_percentage_error: 9.5207 - val_mean_absolute_error: 0.1969\n",
      "\n",
      "Epoch 00013: val_loss did not improve from 0.02320\n",
      "Epoch 14/500\n",
      "2076/2076 [==============================] - 2s 827us/step - loss: 0.0025 - mean_absolute_percentage_error: 8.1107 - mean_absolute_error: 0.0353 - val_loss: 0.1101 - val_mean_absolute_percentage_error: 12.0630 - val_mean_absolute_error: 0.2438\n",
      "\n",
      "Epoch 00014: val_loss did not improve from 0.02320\n",
      "Epoch 15/500\n",
      "2076/2076 [==============================] - 2s 821us/step - loss: 0.0027 - mean_absolute_percentage_error: 8.0841 - mean_absolute_error: 0.0361 - val_loss: 0.1173 - val_mean_absolute_percentage_error: 11.5447 - val_mean_absolute_error: 0.2409\n",
      "\n",
      "Epoch 00015: val_loss did not improve from 0.02320\n",
      "Epoch 16/500\n",
      "2076/2076 [==============================] - 2s 819us/step - loss: 0.0022 - mean_absolute_percentage_error: 7.0130 - mean_absolute_error: 0.0315 - val_loss: 0.1449 - val_mean_absolute_percentage_error: 13.5706 - val_mean_absolute_error: 0.2783\n",
      "\n",
      "Epoch 00016: val_loss did not improve from 0.02320\n",
      "Epoch 17/500\n",
      "2076/2076 [==============================] - 2s 857us/step - loss: 0.0020 - mean_absolute_percentage_error: 7.3535 - mean_absolute_error: 0.0320 - val_loss: 0.1003 - val_mean_absolute_percentage_error: 10.5877 - val_mean_absolute_error: 0.2208\n",
      "\n",
      "Epoch 00017: val_loss did not improve from 0.02320\n",
      "Epoch 18/500\n",
      "2076/2076 [==============================] - 2s 832us/step - loss: 0.0028 - mean_absolute_percentage_error: 8.2584 - mean_absolute_error: 0.0368 - val_loss: 0.1494 - val_mean_absolute_percentage_error: 13.7461 - val_mean_absolute_error: 0.2824\n",
      "\n",
      "Epoch 00018: val_loss did not improve from 0.02320\n",
      "Epoch 19/500\n",
      "2076/2076 [==============================] - 2s 836us/step - loss: 0.0025 - mean_absolute_percentage_error: 7.6325 - mean_absolute_error: 0.0343 - val_loss: 0.1508 - val_mean_absolute_percentage_error: 12.9168 - val_mean_absolute_error: 0.2725\n",
      "\n",
      "Epoch 00019: val_loss did not improve from 0.02320\n",
      "Epoch 20/500\n",
      "2076/2076 [==============================] - 2s 821us/step - loss: 0.0024 - mean_absolute_percentage_error: 7.5831 - mean_absolute_error: 0.0337 - val_loss: 0.1456 - val_mean_absolute_percentage_error: 13.4224 - val_mean_absolute_error: 0.2767\n",
      "\n",
      "Epoch 00020: val_loss did not improve from 0.02320\n",
      "Epoch 21/500\n",
      "2076/2076 [==============================] - 2s 824us/step - loss: 0.0024 - mean_absolute_percentage_error: 7.9241 - mean_absolute_error: 0.0344 - val_loss: 0.1547 - val_mean_absolute_percentage_error: 13.8270 - val_mean_absolute_error: 0.2855\n",
      "\n",
      "Epoch 00021: val_loss did not improve from 0.02320\n",
      "Epoch 22/500\n",
      "2076/2076 [==============================] - 2s 822us/step - loss: 0.0021 - mean_absolute_percentage_error: 7.0907 - mean_absolute_error: 0.0314 - val_loss: 0.0991 - val_mean_absolute_percentage_error: 9.7278 - val_mean_absolute_error: 0.2059\n",
      "\n",
      "Epoch 00022: val_loss did not improve from 0.02320\n"
     ]
    }
   ],
   "source": [
    "lstm.compile()\n",
    "lstm_hist = lstm.fit(500)\n",
    "lstm.load_weights()"
   ]
  },
  {
   "cell_type": "code",
   "execution_count": 19,
   "metadata": {},
   "outputs": [
    {
     "name": "stdout",
     "output_type": "stream",
     "text": [
      "1039/1039 [==============================] - 0s 134us/step\n"
     ]
    }
   ],
   "source": [
    "lstm_score = lstm.evaluate()"
   ]
  },
  {
   "cell_type": "code",
   "execution_count": 20,
   "metadata": {},
   "outputs": [
    {
     "name": "stdout",
     "output_type": "stream",
     "text": [
      "Mean squared error is 1.526437733354651,\n",
      "Mean absolute error is 25.133804756362814,\n",
      "Mean absolute percentage error is 1.1516672231120715\n"
     ]
    }
   ],
   "source": [
    "print('''Mean squared error is {},\n",
    "Mean absolute error is {},\n",
    "Mean absolute percentage error is {}'''.format(*lstm_score))"
   ]
  },
  {
   "cell_type": "code",
   "execution_count": 21,
   "metadata": {},
   "outputs": [
    {
     "data": {
      "image/png": "[encoded data removed]",
      "text/plain": [
       "<Figure size 432x288 with 1 Axes>"
      ]
     },
     "metadata": {
      "needs_background": "light"
     },
     "output_type": "display_data"
    },
    {
     "data": {
      "image/png": "[encoded data removed]",
      "text/plain": [
       "<Figure size 432x288 with 1 Axes>"
      ]
     },
     "metadata": {
      "needs_background": "light"
     },
     "output_type": "display_data"
    },
    {
     "data": {
      "image/png": "[encoded data removed]",
      "text/plain": [
       "<Figure size 432x288 with 1 Axes>"
      ]
     },
     "metadata": {
      "needs_background": "light"
     },
     "output_type": "display_data"
    }
   ],
   "source": [
    "plt.plot(lstm_hist.history['loss'], color='blue')\n",
    "plt.xlabel('Epochs')\n",
    "plt.ylabel('Mean Squared Error')\n",
    "plt.show()\n",
    "\n",
    "plt.plot(lstm_hist.history['mean_absolute_error'], color='blue')\n",
    "plt.xlabel('Epochs')\n",
    "plt.ylabel('Mean Absolute Error')\n",
    "plt.show()\n",
    "\n",
    "plt.plot(lstm_hist.history['mean_absolute_percentage_error'], color='blue')\n",
    "plt.xlabel('Epochs')\n",
    "plt.ylabel('Mean Absolute Percentage Error')\n",
    "plt.show()"
   ]
  },
  {
   "cell_type": "markdown",
   "metadata": {},
   "source": [
    "## Trial Run"
   ]
  },
  {
   "cell_type": "code",
   "execution_count": 22,
   "metadata": {},
   "outputs": [
    {
     "name": "stdout",
     "output_type": "stream",
     "text": [
      "[*********************100%***********************]  1 of 1 downloaded\n"
     ]
    }
   ],
   "source": [
    "from utils.data_utils import preprocess\n",
    "test_data = get_data(ticker, '2018-11-01', '2019-01-31')\n",
    "x_data, y_data = preprocess(test_data, num_of_days)"
   ]
  },
  {
   "cell_type": "code",
   "execution_count": 23,
   "metadata": {},
   "outputs": [
    {
     "data": {
      "image/png": "[encoded data removed]",
      "text/plain": [
       "<Figure size 432x288 with 1 Axes>"
      ]
     },
     "metadata": {
      "needs_background": "light"
     },
     "output_type": "display_data"
    },
    {
     "data": {
      "image/png": "[encoded data removed]",
      "text/plain": [
       "<Figure size 432x288 with 1 Axes>"
      ]
     },
     "metadata": {
      "needs_background": "light"
     },
     "output_type": "display_data"
    }
   ],
   "source": [
    "import matplotlib.pyplot as plt\n",
    "\n",
    "mlp_y_pred = mlp.predict(x_data)\n",
    "\n",
    "plt.plot(mlp_y_pred, color='blue', label='Predicted')\n",
    "plt.plot(y_data, color='red', label='Actual')\n",
    "plt.xlabel('Input Count')\n",
    "plt.ylabel('Stock Price')\n",
    "plt.legend()\n",
    "plt.show()\n",
    "\n",
    "knn_y_pred = knn.predict(x_data)\n",
    "plt.plot(knn_y_pred, color='blue', label='Predicted')\n",
    "plt.plot(y_data, color='red', label='Actual')\n",
    "plt.xlabel('Input Count')\n",
    "plt.ylabel('Stock Price')\n",
    "plt.legend()\n",
    "plt.show()"
   ]
  },
  {
   "cell_type": "code",
   "execution_count": 24,
   "metadata": {},
   "outputs": [],
   "source": [
    "mlp_score = mlp.score(y_data, mlp_y_pred)"
   ]
  },
  {
   "cell_type": "code",
   "execution_count": 25,
   "metadata": {},
   "outputs": [
    {
     "data": {
      "text/plain": [
       "(14.472929021911197, 2.984470587261649, 1.7075447820932583)"
      ]
     },
     "execution_count": 25,
     "metadata": {},
     "output_type": "execute_result"
    }
   ],
   "source": [
    "mlp_score"
   ]
  },
  {
   "cell_type": "code",
   "execution_count": 26,
   "metadata": {},
   "outputs": [
    {
     "name": "stdout",
     "output_type": "stream",
     "text": [
      "[[182.50104]]\n"
     ]
    }
   ],
   "source": [
    "import numpy as np\n",
    "val = [\n",
    "    [181.50, 182.45, 177.65, 179.55],\n",
    "    [180.20, 181.40, 177.60, 180.00],\n",
    "    [181.00, 184.70, 179.50, 182.25],\n",
    "    [182.00, 184.50, 180.75, 182.85]\n",
    "      ]\n",
    "val = np.array([val])\n",
    "\n",
    "pred = mlp.predict(val)\n",
    "\n",
    "print(pred)"
   ]
  },
  {
   "cell_type": "code",
   "execution_count": null,
   "metadata": {},
   "outputs": [],
   "source": []
  }
 ],
 "metadata": {
  "kernelspec": {
   "display_name": "Python 3",
   "language": "python",
   "name": "python3"
  },
  "language_info": {
   "codemirror_mode": {
    "name": "ipython",
    "version": 3
   },
   "file_extension": ".py",
   "mimetype": "text/x-python",
   "name": "python",
   "nbconvert_exporter": "python",
   "pygments_lexer": "ipython3",
   "version": "3.6.8"
  }
 },
 "nbformat": 4,
 "nbformat_minor": 2
}
